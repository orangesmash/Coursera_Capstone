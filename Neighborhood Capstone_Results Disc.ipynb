{
 "cells": [
  {
   "cell_type": "markdown",
   "id": "75ca3335-64d3-4296-9fdc-b24dda204b2a",
   "metadata": {},
   "source": [
    "### 4. Results & Discussion"
   ]
  },
  {
   "cell_type": "markdown",
   "id": "ed88c9a1-7542-47b6-96fc-d83a4b9b6ee7",
   "metadata": {},
   "source": []
  }
 ],
 "metadata": {
  "kernelspec": {
   "display_name": "Python",
   "language": "python",
   "name": "conda-env-python-py"
  },
  "language_info": {
   "codemirror_mode": {
    "name": "ipython",
    "version": 3
   },
   "file_extension": ".py",
   "mimetype": "text/x-python",
   "name": "python",
   "nbconvert_exporter": "python",
   "pygments_lexer": "ipython3",
   "version": "3.6.13"
  }
 },
 "nbformat": 4,
 "nbformat_minor": 5
}
