{
 "cells": [
  {
   "cell_type": "code",
   "execution_count": null,
   "id": "4157daf5-4aa1-4673-8c25-34e803d1a9dd",
   "metadata": {},
   "outputs": [],
   "source": [
    "\"\"\"\n",
    "Applied Data Science Capstone Project\n",
    "\n",
    "\"\"\"\"\n"
   ]
  },
  {
   "cell_type": "code",
   "execution_count": null,
   "id": "d1d221c0-0a97-40a9-8614-975e3562b492",
   "metadata": {},
   "outputs": [],
   "source": []
  }
 ],
 "metadata": {
  "kernelspec": {
   "display_name": "Python",
   "language": "python",
   "name": "conda-env-python-py"
  },
  "language_info": {
   "codemirror_mode": {
    "name": "ipython",
    "version": 3
   },
   "file_extension": ".py",
   "mimetype": "text/x-python",
   "name": "python",
   "nbconvert_exporter": "python",
   "pygments_lexer": "ipython3",
   "version": "3.6.13"
  }
 },
 "nbformat": 4,
 "nbformat_minor": 5
}
