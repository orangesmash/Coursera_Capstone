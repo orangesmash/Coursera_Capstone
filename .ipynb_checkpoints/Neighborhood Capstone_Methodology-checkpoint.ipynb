{
 "cells": [
  {
   "cell_type": "markdown",
   "id": "521994bf-1cfb-46db-9dd7-de8ea30295c3",
   "metadata": {},
   "source": [
    "### 3. Methodology- Business Problem\n",
    "//the main component of the report where you discuss and describe any exploratory data analysis that you did, any inferential statistical testing that you performed, if any, and what machine learnings were used and why.\n"
   ]
  },
  {
   "cell_type": "code",
   "execution_count": null,
   "id": "7c3a6d03-2127-4f3f-a83f-176bf834dfe0",
   "metadata": {},
   "outputs": [],
   "source": []
  }
 ],
 "metadata": {
  "kernelspec": {
   "display_name": "Python",
   "language": "python",
   "name": "conda-env-python-py"
  },
  "language_info": {
   "codemirror_mode": {
    "name": "ipython",
    "version": 3
   },
   "file_extension": ".py",
   "mimetype": "text/x-python",
   "name": "python",
   "nbconvert_exporter": "python",
   "pygments_lexer": "ipython3",
   "version": "3.6.13"
  }
 },
 "nbformat": 4,
 "nbformat_minor": 5
}
