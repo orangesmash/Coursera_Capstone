{
 "cells": [
  {
   "cell_type": "markdown",
   "id": "7eae0cb0-2530-48dc-aaa4-b2fcdc4b69c9",
   "metadata": {},
   "source": [
    "### 2. Data"
   ]
  },
  {
   "cell_type": "markdown",
   "id": "b694c260-40a9-4dae-a4d5-b24766ab12ee",
   "metadata": {},
   "source": [
    "For Singapore, I will combine a map of the city’s neighbourhoods with FourSquare information on affordable local food in Singapore. The map of Singapore from Folium can be superimposed with the json map of Singapore obtained from https://www.onemap.gov.sg/docs/#introduction. As for information on the local food centres can be found from Foursquare using the search terms ‘hawker centre’ or ‘food centre’.  \n",
    "\n",
    "For Hong Kong, I will combine tha json map of the city from https://data.gov.hk/en-data/dataset/hk-had-json1-hong-kong-administrative-boundaries also with FourSquare information on affordable food in Hong Kong, but this time using search terms ‘street food’ as they commonly found as. \n",
    "\n",
    "For the search of food options in each city, I may define more specific search terms such as 'Halal' to see the list of halal food outlets and their pricing. From this list, I can see whether the food outlets are found in hawker or food centres/ along the streets, or as an indoor food outlet.\n",
    "\n",
    "The clustering and analysis for both cities will be based on similar categories as far as possible for fair comparison.\n"
   ]
  },
  {
   "cell_type": "markdown",
   "id": "988f7efc-1b35-49b2-8670-f84ff8a124d5",
   "metadata": {},
   "source": []
  }
 ],
 "metadata": {
  "kernelspec": {
   "display_name": "Python",
   "language": "python",
   "name": "conda-env-python-py"
  },
  "language_info": {
   "codemirror_mode": {
    "name": "ipython",
    "version": 3
   },
   "file_extension": ".py",
   "mimetype": "text/x-python",
   "name": "python",
   "nbconvert_exporter": "python",
   "pygments_lexer": "ipython3",
   "version": "3.6.13"
  }
 },
 "nbformat": 4,
 "nbformat_minor": 5
}
