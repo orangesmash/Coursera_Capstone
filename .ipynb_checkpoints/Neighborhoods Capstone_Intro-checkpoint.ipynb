{
 "cells": [
  {
   "cell_type": "markdown",
   "id": "cc5df54b-0542-4628-802d-6e41b3f2ec42",
   "metadata": {},
   "source": [
    "<h1 align=center><font size = 5>Applied Data Science Capstone Project</font></h1>"
   ]
  },
  {
   "cell_type": "markdown",
   "id": "c07b2c19-01c9-479b-893a-0f2701e42869",
   "metadata": {},
   "source": [
    "<a id=\"item1\"></a>"
   ]
  },
  {
   "cell_type": "markdown",
   "id": "98b00ea0-18bb-470f-b067-f59c70a7ad06",
   "metadata": {},
   "source": [
    "### 1. Introduction- Business Problem\n"
   ]
  },
  {
   "cell_type": "markdown",
   "id": "5d2cf57c-b535-47ae-8def-4014006d909c",
   "metadata": {},
   "source": [
    "Both cities are regional Asian financial centres and attract immigrants from all around the world. Both have a rich and diverse local food culture that are sold at affordable prices, typically from food stalls or marketplaces which sell food more cheaply compared to that at restaurants or indoor, enclosed spaces. In Singapore, a diverse range of food stalls selling affordable dishes of various cuisines, especially that of the dominant ethnic groups- Chinese, Malays and Indians, are found in places called 'hawker centres'. In Hong Kong, cheaper food can be found as 'street food', found in selected Hong Kong districts. \n",
    "\n",
    "My analysis will compare the range of local food options available in both cities so that immigrants are aware of them. Specifically, my analysis will also explore whether the range of affordable local food in both cities comprise of various ethnic cuisines, or limited to just certain cuisines. This problem is especially so for Muslim immigrants who need to know where affordable Halal options can be found. Halal options are usually only found in food stalls serving Malay, Arab or Indian Muslim cuisines. Immigrants intending to relocate may refer to my analysis to help determine which city to settle down in or which neighborhood in the city offers more affordable Halal food options.\n"
   ]
  },
  {
   "cell_type": "markdown",
   "id": "931982e0-f877-47a3-8e42-a610cd00fea0",
   "metadata": {},
   "source": []
  },
  {
   "cell_type": "markdown",
   "id": "de8152ce-fdfc-4286-bcf2-0e7164e410da",
   "metadata": {},
   "source": []
  },
  {
   "cell_type": "code",
   "execution_count": null,
   "id": "8761031a-8501-4e69-8e73-c2d7a8f7a10c",
   "metadata": {},
   "outputs": [],
   "source": []
  }
 ],
 "metadata": {
  "kernelspec": {
   "display_name": "Python",
   "language": "python",
   "name": "conda-env-python-py"
  },
  "language_info": {
   "codemirror_mode": {
    "name": "ipython",
    "version": 3
   },
   "file_extension": ".py",
   "mimetype": "text/x-python",
   "name": "python",
   "nbconvert_exporter": "python",
   "pygments_lexer": "ipython3",
   "version": "3.6.13"
  }
 },
 "nbformat": 4,
 "nbformat_minor": 5
}
